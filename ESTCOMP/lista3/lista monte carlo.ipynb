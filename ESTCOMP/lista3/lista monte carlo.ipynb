{
 "cells": [
  {
   "cell_type": "markdown",
   "metadata": {},
   "source": [
    "<bold>Grupo</bold>: Leonardo Frangello, Gabriel Otsuka, Thaynara, Pedro Henrique Bufulin"
   ]
  },
  {
   "cell_type": "code",
   "execution_count": 16,
   "metadata": {},
   "outputs": [
    {
     "data": {
      "text/html": [
       "0.37722"
      ],
      "text/latex": [
       "0.37722"
      ],
      "text/markdown": [
       "0.37722"
      ],
      "text/plain": [
       "[1] 0.37722"
      ]
     },
     "metadata": {},
     "output_type": "display_data"
    }
   ],
   "source": [
    "# 1) \n",
    "contador <- 100000\n",
    "for (iterador in 1:100000) {\n",
    "  sorteio <- sample(1:4, size = 4, replace = F)\n",
    "  indexSorteio <- 1\n",
    "  for (valorSorteio in sorteio) {\n",
    "    if (indexSorteio == valorSorteio) {\n",
    "      contador <- contador - 1\n",
    "      break\n",
    "    }\n",
    "    indexSorteio <- indexSorteio + 1\n",
    "  }\n",
    "}\n",
    "\n",
    "\n",
    "probAmigoOculto <- function(n) {\n",
    "  contador <- 100000\n",
    "  for (iterador in 1:100000) {\n",
    "    sorteio <- sample(1:n, size = n, replace = F)\n",
    "    indexSorteio <- 1\n",
    "    for (valorSorteio in sorteio) {\n",
    "      if (indexSorteio == valorSorteio) {\n",
    "        contador <- contador - 1\n",
    "        break\n",
    "      }\n",
    "      indexSorteio <- indexSorteio + 1\n",
    "    }\n",
    "  }\n",
    "  \n",
    "  return (contador/100000)\n",
    "}\n",
    "\n",
    "resultado <- contador/100000\n",
    "resultado"
   ]
  },
  {
   "cell_type": "code",
   "execution_count": 17,
   "metadata": {},
   "outputs": [
    {
     "data": {
      "text/html": [
       "0.22102"
      ],
      "text/latex": [
       "0.22102"
      ],
      "text/markdown": [
       "0.22102"
      ],
      "text/plain": [
       "[1] 0.22102"
      ]
     },
     "metadata": {},
     "output_type": "display_data"
    }
   ],
   "source": [
    "# 2)\n",
    "\n",
    "contador <- 0\n",
    "for (iterador in 1:100000) {\n",
    "  lance1 <- sample(1:6, size = 1, replace = T)\n",
    "  lance2 <- sample(1:6, size = 1, replace = T)\n",
    "  \n",
    "      if (lance1 + lance2 == 7 || lance1 + lance2 == 11) {\n",
    "        contador <- contador + 1\n",
    "          }\n",
    "}\n",
    "\n",
    "resultado <- contador/100000\n",
    "resultado"
   ]
  },
  {
   "cell_type": "code",
   "execution_count": 18,
   "metadata": {},
   "outputs": [
    {
     "data": {
      "text/html": [
       "0.37005"
      ],
      "text/latex": [
       "0.37005"
      ],
      "text/markdown": [
       "0.37005"
      ],
      "text/plain": [
       "[1] 0.37005"
      ]
     },
     "metadata": {},
     "output_type": "display_data"
    }
   ],
   "source": [
    "# 3) \n",
    "\n",
    "bolas <- c(\"preta\",\"branca\",\"vermelha\")\n",
    "contador <- 0\n",
    "\n",
    "for (i in 1:100000) {\n",
    "  dado <- sample(1:6, size = 1, replace = TRUE)  \n",
    "  if (dado == 5) {\n",
    "    if(sample(bolas, size = 1, prob = c(6/13, 4/13, 3/13))  == \"vermelha\") {\n",
    "      contador <- contador + 1\n",
    "    }\n",
    "  } else if (dado == 1 || dado == 4 || dado == 6) {\n",
    "    if(sample(bolas, size = 1, prob = c(3/10, 2/10, 5/10)) == \"vermelha\") {\n",
    "      contador <- contador + 1\n",
    "    }\n",
    "  } else {\n",
    "    if(sample(bolas, size = 1, prob = c(4/8, 2/8, 2/8)) == \"vermelha\") {\n",
    "      contador <- contador + 1\n",
    "    }\n",
    "  }\n",
    "}\n",
    "\n",
    "resultado <- contador/100000\n",
    "resultado"
   ]
  },
  {
   "cell_type": "code",
   "execution_count": 19,
   "metadata": {},
   "outputs": [
    {
     "data": {
      "text/html": [
       "0.51479"
      ],
      "text/latex": [
       "0.51479"
      ],
      "text/markdown": [
       "0.51479"
      ],
      "text/plain": [
       "[1] 0.51479"
      ]
     },
     "metadata": {},
     "output_type": "display_data"
    }
   ],
   "source": [
    "# 4) \n",
    "contador <- 0\n",
    "\n",
    "for (i in 1:100000) {\n",
    "  dado1 <- sample(1:6, 1)\n",
    "  dado2 <- sample(1:6, 1)\n",
    "  \n",
    "  soma <- dado1 + dado2\n",
    "  \n",
    "  if(soma == 7 || soma == 11) {\n",
    "    contador <- contador + 1\n",
    "  } else if (soma != 2 || soma != 3 || soma != 12) {\n",
    "    while(TRUE) {\n",
    "      dado1 <- sample(1:6, 1)\n",
    "      dado2 <- sample(1:6, 1)\n",
    "      soma2 <- dado1 + dado2\n",
    "      if (soma2 == 7) {\n",
    "        break\n",
    "      } else if (soma2 == soma) {\n",
    "        contador <- contador + 1\n",
    "        break\n",
    "      }\n",
    "    } \n",
    "  }  \n",
    "}\n",
    "\n",
    "resultado <- contador/100000\n",
    "resultado"
   ]
  },
  {
   "cell_type": "code",
   "execution_count": 25,
   "metadata": {},
   "outputs": [
    {
     "data": {
      "text/html": [
       "0.272757461207925"
      ],
      "text/latex": [
       "0.272757461207925"
      ],
      "text/markdown": [
       "0.272757461207925"
      ],
      "text/plain": [
       "[1] 0.2727575"
      ]
     },
     "metadata": {},
     "output_type": "display_data"
    },
    {
     "data": {
      "text/html": [
       "0.498620303113795"
      ],
      "text/latex": [
       "0.498620303113795"
      ],
      "text/markdown": [
       "0.498620303113795"
      ],
      "text/plain": [
       "[1] 0.4986203"
      ]
     },
     "metadata": {},
     "output_type": "display_data"
    }
   ],
   "source": [
    "e = 2.718281828459045235360287\n",
    "a <- runif(100000, -1, 2)\n",
    "resultado1 <- sum((1/sqrt(2*pi)) * (e**(-a*a/2)))/100000\n",
    "resultado1\n",
    "\n",
    "\n",
    "b <- runif(100000, 0, pi)\n",
    "resultado2 <- sum(cos(b) ** 2)/100000\n",
    "resultado2"
   ]
  },
  {
   "cell_type": "code",
   "execution_count": null,
   "metadata": {},
   "outputs": [],
   "source": []
  }
 ],
 "metadata": {
  "kernelspec": {
   "display_name": "R",
   "language": "R",
   "name": "ir"
  },
  "language_info": {
   "codemirror_mode": "r",
   "file_extension": ".r",
   "mimetype": "text/x-r-source",
   "name": "R",
   "pygments_lexer": "r",
   "version": "4.0.3"
  }
 },
 "nbformat": 4,
 "nbformat_minor": 4
}
