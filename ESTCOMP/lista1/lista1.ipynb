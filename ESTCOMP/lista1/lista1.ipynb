{
 "cells": [
  {
   "cell_type": "markdown",
   "metadata": {},
   "source": [
    "<h1>Exercício 1. </h1>"
   ]
  },
  {
   "cell_type": "code",
   "execution_count": 36,
   "metadata": {},
   "outputs": [
    {
     "data": {
      "text/html": [
       "<style>\n",
       ".list-inline {list-style: none; margin:0; padding: 0}\n",
       ".list-inline>li {display: inline-block}\n",
       ".list-inline>li:not(:last-child)::after {content: \"\\00b7\"; padding: 0 .5ex}\n",
       "</style>\n",
       "<ol class=list-inline><li>21</li><li>2</li></ol>\n"
      ],
      "text/latex": [
       "\\begin{enumerate*}\n",
       "\\item 21\n",
       "\\item 2\n",
       "\\end{enumerate*}\n"
      ],
      "text/markdown": [
       "1. 21\n",
       "2. 2\n",
       "\n",
       "\n"
      ],
      "text/plain": [
       "[1] 21  2"
      ]
     },
     "metadata": {},
     "output_type": "display_data"
    }
   ],
   "source": [
    "    X <- expand.grid(1:6,1:6)\n",
    "dim(unique(t(apply(X,1,sort))))"
   ]
  },
  {
   "cell_type": "code",
   "execution_count": 37,
   "metadata": {},
   "outputs": [],
   "source": [
    "dados = expand.grid(1:6, 1:6)"
   ]
  },
  {
   "cell_type": "code",
   "execution_count": 38,
   "metadata": {},
   "outputs": [
    {
     "data": {
      "text/html": [
       "33"
      ],
      "text/latex": [
       "33"
      ],
      "text/markdown": [
       "33"
      ],
      "text/plain": [
       "[1] 33"
      ]
     },
     "metadata": {},
     "output_type": "display_data"
    }
   ],
   "source": [
    "library(tidyverse)  \n",
    "\n",
    "eventosA <- data.frame(Var1=integer(), Var2=integer())\n",
    "for (row in 1:nrow(dados)){\n",
    "    dado1 <- dados[row, \"Var1\"]\n",
    "    dado2 <- dados[row, \"Var2\"]\n",
    "    if(dado1 + dado2 >=4 ){\n",
    "        novodado <-data.frame(Var1=dado1, Var2=dado2)\n",
    "        eventosA <- rbind(eventosA, novodado)   \n",
    "    }\n",
    "}\n",
    "\n",
    "nrow(eventosA)\n"
   ]
  },
  {
   "cell_type": "markdown",
   "metadata": {},
   "source": [
    "$P(A) = \\frac{n(A)}{ n}   = \\frac{33}{36} $ "
   ]
  },
  {
   "cell_type": "code",
   "execution_count": 39,
   "metadata": {},
   "outputs": [
    {
     "data": {
      "text/html": [
       "18"
      ],
      "text/latex": [
       "18"
      ],
      "text/markdown": [
       "18"
      ],
      "text/plain": [
       "[1] 18"
      ]
     },
     "metadata": {},
     "output_type": "display_data"
    },
    {
     "data": {
      "text/html": [
       "11"
      ],
      "text/latex": [
       "11"
      ],
      "text/markdown": [
       "11"
      ],
      "text/plain": [
       "[1] 11"
      ]
     },
     "metadata": {},
     "output_type": "display_data"
    },
    {
     "data": {
      "text/html": [
       "6"
      ],
      "text/latex": [
       "6"
      ],
      "text/markdown": [
       "6"
      ],
      "text/plain": [
       "[1] 6"
      ]
     },
     "metadata": {},
     "output_type": "display_data"
    }
   ],
   "source": [
    "\n",
    "eventosB <- data.frame(Var1=integer(), Var2=integer())\n",
    "eventosC <- data.frame(Var1=integer(), Var2=integer())\n",
    "for (row in 1:nrow(dados)){\n",
    "    dado1 <- dados[row, \"Var1\"]\n",
    "    dado2 <- dados[row, \"Var2\"]\n",
    "    if((dado1 + dado2) %% 2 != 0 ){\n",
    "        novodado <-data.frame(Var1=dado1, Var2=dado2)\n",
    "        eventosB <- rbind(eventosB, novodado)   \n",
    "    }\n",
    "    if(dado1 ==2 || dado2 ==2){\n",
    "        novodado <-data.frame(Var1=dado1, Var2=dado2)\n",
    "        eventosC <- rbind(eventosC, novodado) \n",
    "    }\n",
    "}\n",
    "nrow(eventosB)\n",
    "nrow(eventosC)\n",
    "\n",
    "eventosIntersec <- data.frame(Var1=integer(), Var2=integer())\n",
    "\n",
    "for (row in 1:nrow(eventosB)){\n",
    "    dado1b <- eventosB[row, \"Var1\"]\n",
    "    dado2b <- eventosB[row, \"Var2\"]\n",
    "    for(row2 in 1:nrow(eventosC)){\n",
    "        dado1c <- eventosC[row2, \"Var1\"]\n",
    "        dado2c <- eventosC[row2, \"Var2\"]\n",
    "         if((dado1b ==dado1c) && (dado2b ==dado2c)){\n",
    "            novodado <-data.frame(Var1=dado1b, Var2=dado2b)\n",
    "            eventosIntersec <- rbind(eventosIntersec, novodado) \n",
    "         }\n",
    "    }    \n",
    "}\n",
    "nrow(eventosIntersec)"
   ]
  },
  {
   "cell_type": "markdown",
   "metadata": {},
   "source": [
    "$P(B|C) = \\frac{P(B\\cap C)}{ P(C)}   =  \\frac{ \\frac{6}{36}  }{\\frac{11}{36}} = 0545454545...  $"
   ]
  },
  {
   "cell_type": "markdown",
   "metadata": {},
   "source": [
    "Sobre a $P(D)$ é óbvio que ela é 9.\n",
    "Assim sendo $P(A \\cap D) = \\frac{6}{36}$ Como podemos ver abaixo "
   ]
  },
  {
   "cell_type": "code",
   "execution_count": 40,
   "metadata": {},
   "outputs": [
    {
     "data": {
      "text/html": [
       "5"
      ],
      "text/latex": [
       "5"
      ],
      "text/markdown": [
       "5"
      ],
      "text/plain": [
       "[1] 5"
      ]
     },
     "metadata": {},
     "output_type": "display_data"
    },
    {
     "data": {
      "text/html": [
       "5"
      ],
      "text/latex": [
       "5"
      ],
      "text/markdown": [
       "5"
      ],
      "text/plain": [
       "[1] 5"
      ]
     },
     "metadata": {},
     "output_type": "display_data"
    }
   ],
   "source": [
    "eventosD<- data.frame(Var1=integer(), Var2=integer())\n",
    "\n",
    "dados = expand.grid(1:3, 1:3)\n",
    "\n",
    "for (row in 1:nrow(dados)){\n",
    "    dado1d <- dados[row, \"Var1\"]\n",
    "    dado2d <- dados[row, \"Var2\"]\n",
    "    if(dado1d == 3 || dado2d  ==3 ){\n",
    "        novodado <-data.frame(Var1=dado1d, Var2=dado2d)\n",
    "        eventosD <- rbind(eventosD, novodado)   \n",
    "    }    \n",
    "}\n",
    "    \n",
    "\n",
    "nrow(eventosD)\n",
    "\n",
    "    \n",
    "    \n",
    "eventosIntersecAD <- data.frame(Var1=integer(), Var2=integer())\n",
    "\n",
    "for (row in 1:nrow(eventosA)){\n",
    "    dado1a <- eventosA[row, \"Var1\"]\n",
    "    dado2a <- eventosA[row, \"Var2\"]\n",
    "    for(row2 in 1:nrow(eventosD)){\n",
    "        dado1d <- eventosD[row2, \"Var1\"]\n",
    "        dado2d <- eventosD[row2, \"Var2\"]\n",
    "         if((dado1a ==dado1d) && (dado2a ==dado2d)){\n",
    "            novodado <-data.frame(Var1=dado1a, Var2=dado2a)\n",
    "            eventosIntersecAD <- rbind(eventosIntersecAD, novodado) \n",
    "         }\n",
    "    }    \n",
    "}\n",
    "\n",
    "nrow(eventosIntersecAD)\n"
   ]
  },
  {
   "cell_type": "markdown",
   "metadata": {},
   "source": [
    "$P(A \\cap D)  = \\frac{5}{36}$"
   ]
  },
  {
   "cell_type": "code",
   "execution_count": 41,
   "metadata": {},
   "outputs": [],
   "source": [
    "eventosIntersecCD <- data.frame(Var1=integer(), Var2=integer())\n",
    "# a intersecção aqui vai ser o conjunto: { (2,3), (3,2)}"
   ]
  },
  {
   "cell_type": "markdown",
   "metadata": {},
   "source": [
    "$ P( C\\cap D)  = \\frac{2}{36} $"
   ]
  },
  {
   "cell_type": "markdown",
   "metadata": {},
   "source": [
    "$P(C \\cup D) = P(C) + P(D) - P(C \\cap D)\n",
    " \\frac{}{}$\n",
    "\n",
    "\n"
   ]
  },
  {
   "cell_type": "markdown",
   "metadata": {},
   "source": [
    "$\n",
    "= \\frac{11}{36} + \\frac{5}{36} - \\frac{2}{36}= 0.388888888888889\n",
    "$"
   ]
  },
  {
   "cell_type": "markdown",
   "metadata": {},
   "source": [
    "<h1> Exercício 2. </h1>"
   ]
  },
  {
   "cell_type": "markdown",
   "metadata": {},
   "source": [
    "$ P(doente | positivo) = \\frac{P(doente \\cap positivo)}{P(positivo)}  $"
   ]
  },
  {
   "cell_type": "markdown",
   "metadata": {},
   "source": [
    "$  P(doente \\cap positivo)  =  P(doente) * P(positivo | doente) $"
   ]
  },
  {
   "cell_type": "markdown",
   "metadata": {},
   "source": [
    "$P(positivo) = P(positivo \\cap doente) + P(positivo \\cap sadio)        $"
   ]
  },
  {
   "cell_type": "markdown",
   "metadata": {},
   "source": [
    "$ P(doente|positivo) = \\frac{P(doente)* P(positivo | doente) }{P(doente) * P(positivo|doente) + P(sadio)*P(positivo|sadio)}       $"
   ]
  },
  {
   "cell_type": "markdown",
   "metadata": {},
   "source": [
    "$ P(doente|positivo) = \\frac{0,005 * 0,95}{0,005 * 0,95 + 0,95 * 0,01} = 0,3231 $"
   ]
  },
  {
   "cell_type": "markdown",
   "metadata": {},
   "source": [
    "A probabilidade da pessoa ter a doença dado que seu exame foi positivo é de 32%"
   ]
  },
  {
   "cell_type": "markdown",
   "metadata": {},
   "source": [
    "<h1>Exercício 3.</h1>"
   ]
  },
  {
   "cell_type": "code",
   "execution_count": null,
   "metadata": {},
   "outputs": [],
   "source": []
  }
 ],
 "metadata": {
  "kernelspec": {
   "display_name": "R",
   "language": "R",
   "name": "ir"
  },
  "language_info": {
   "codemirror_mode": "r",
   "file_extension": ".r",
   "mimetype": "text/x-r-source",
   "name": "R",
   "pygments_lexer": "r",
   "version": "4.0.3"
  }
 },
 "nbformat": 4,
 "nbformat_minor": 4
}
