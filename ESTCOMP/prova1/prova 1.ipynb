{
 "cells": [
  {
   "cell_type": "code",
   "execution_count": 173,
   "metadata": {},
   "outputs": [
    {
     "name": "stdout",
     "output_type": "stream",
     "text": [
      "[1] 0.4877051\n"
     ]
    }
   ],
   "source": [
    "# Questão 1\n",
    "#a)\n",
    "BIGINT <- 100000\n",
    "  sequencia <- seq(from=0, to=6, by=6/BIGINT)\n",
    "  normal <- runif(n=BIGINT, 0, 0.5)\n",
    "  under <- 0\n",
    "\n",
    "  integral <- function(x) {\n",
    "    return (x/(1 + (2*x^2) + x^4))\n",
    "    }  \n",
    "\n",
    "    \n",
    "  for (i in 1:BIGINT) {\n",
    "    results <- integral(sequencia[[i]])\n",
    "    if (normal[[i]] < results) {\n",
    "      under <- under + 1\n",
    "    }\n",
    "  }\n",
    "\n",
    "resultado <- (under / length(sequencia)) * (6 - 0) * (0.5 - 0)\n",
    "print(resultado)\n"
   ]
  },
  {
   "cell_type": "code",
   "execution_count": 178,
   "metadata": {},
   "outputs": [
    {
     "name": "stdout",
     "output_type": "stream",
     "text": [
      "[1] 0.4860551\n"
     ]
    }
   ],
   "source": [
    "#b)\n",
    "\n",
    "# sobre os inptus na função estimaIntegral:\n",
    "#a e n são os valores da intgral\n",
    "#c e d são valores do retângulo que fecham em torno da integral\n",
    "\n",
    "estimaIntegral <- function( a, n, c, d) {\n",
    "  sequencia <- seq(from=a, to=n, by=n/BIGINT)\n",
    "  normal <- runif(n=BIGINT, c, d)\n",
    "  under <- 0\n",
    "      \n",
    "  integral <- function(x) {\n",
    "    return (x/(1 + (2*x^2) + x^4))\n",
    "    }  \n",
    "\n",
    "    \n",
    "  for (i in 1:BIGINT) {\n",
    "    results <- integral(sequencia[[i]])\n",
    "    if (normal[[i]] < results) {\n",
    "      under <- under + 1\n",
    "    }\n",
    "  }\n",
    "  \n",
    "  return((under / length(sequencia)) * (n - a) * (d - c))\n",
    "}\n",
    "\n",
    "\n",
    "#usei a funçãoq eu criei para a questão 2 para responder a questão 1, sendo o intervalo da integral de 0 à 6:\n",
    "print(estimaIntegral(0, 6, 0, 0.5))"
   ]
  },
  {
   "cell_type": "code",
   "execution_count": 175,
   "metadata": {},
   "outputs": [
    {
     "name": "stdout",
     "output_type": "stream",
     "text": [
      "[1] 0.59852\n",
      "[1] 0.07207\n",
      "[1] 0.09298\n"
     ]
    }
   ],
   "source": [
    "#Questão 2.\n",
    "\n",
    "countA <- 0\n",
    "countB <- 0\n",
    "countC <- 0\n",
    "\n",
    "allDices <- vector()\n",
    "for (i in 1:BIGINT) {\n",
    "  \n",
    "  d1 <- sample(1:6, size = 1, replace = TRUE)\n",
    "  d2 <- sample(1:6, size = 1, replace = TRUE)\n",
    "  d3 <- sample(1:6, size = 1, replace = TRUE)\n",
    "  d4 <- sample(1:6, size = 1, replace = TRUE)\n",
    "  d5 <- sample(1:6, size = 1, replace = TRUE)\n",
    "\n",
    "\n",
    "   \n",
    "    #contando a probabilidade de algum deles ser 2\n",
    "    if (d1 == 2 || d2 == 2 || d3 == 2 || d4 == 2 || d5 == 2){\n",
    "      countA <- countA + 1\n",
    "    }\n",
    "\n",
    "    \n",
    "    # contando a probabilidade da soma dos resultados ser 14\n",
    "    if(d1+d2+d3+d4+d5==14){\n",
    "        countB <- countB + 1\n",
    "    }\n",
    "    \n",
    "    dados <- c(d1,d2,d3,d4,d5)\n",
    "    # checando se todos os resultados são diferentes, e se forem, incrementa o contadorC\n",
    "   #Se encontrar algum TRUE no array gerado por match, significa que tem uma duplicata.\n",
    "    duplicado <- match(TRUE,duplicated(dados))\n",
    "    #Se não houver um TRUE (ou seja, nenhum duplicado), vai retornar <NA>. Nesse caso, tem que incremetar \n",
    "    #como amostra\n",
    "    if(is.na(duplicado)){\n",
    "    countC <- countC + 1\n",
    "    }\n",
    "\n",
    "}\n",
    "\n",
    "#resultado item a)\n",
    "x <- countA/BIGINT\n",
    "print(x)\n",
    "\n",
    "#resultado item b)\n",
    "x <- countB/BIGINT\n",
    "print(x)\n",
    "\n",
    "#resultado do item c)\n",
    "x <- countC/BIGINT\n",
    "print(x)\n"
   ]
  }
 ],
 "metadata": {
  "kernelspec": {
   "display_name": "R",
   "language": "R",
   "name": "ir"
  },
  "language_info": {
   "codemirror_mode": "r",
   "file_extension": ".r",
   "mimetype": "text/x-r-source",
   "name": "R",
   "pygments_lexer": "r",
   "version": "4.0.3"
  }
 },
 "nbformat": 4,
 "nbformat_minor": 4
}
