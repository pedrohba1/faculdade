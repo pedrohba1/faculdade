{
 "cells": [
  {
   "cell_type": "code",
   "execution_count": 2,
   "metadata": {},
   "outputs": [
    {
     "data": {
      "text/html": [
       "<style>\n",
       ".list-inline {list-style: none; margin:0; padding: 0}\n",
       ".list-inline>li {display: inline-block}\n",
       ".list-inline>li:not(:last-child)::after {content: \"\\00b7\"; padding: 0 .5ex}\n",
       "</style>\n",
       "<ol class=list-inline><li>-0.242547696926291</li><li>0.606118417015477</li><li>-0.143237035410008</li><li>-2.55052121477071</li><li>1.67272027747635</li></ol>\n"
      ],
      "text/latex": [
       "\\begin{enumerate*}\n",
       "\\item -0.242547696926291\n",
       "\\item 0.606118417015477\n",
       "\\item -0.143237035410008\n",
       "\\item -2.55052121477071\n",
       "\\item 1.67272027747635\n",
       "\\end{enumerate*}\n"
      ],
      "text/markdown": [
       "1. -0.242547696926291\n",
       "2. 0.606118417015477\n",
       "3. -0.143237035410008\n",
       "4. -2.55052121477071\n",
       "5. 1.67272027747635\n",
       "\n",
       "\n"
      ],
      "text/plain": [
       "[1] -0.2425477  0.6061184 -0.1432370 -2.5505212  1.6727203"
      ]
     },
     "metadata": {},
     "output_type": "display_data"
    }
   ],
   "source": [
    "x <- rnorm(5)\n",
    "x"
   ]
  },
  {
   "cell_type": "code",
   "execution_count": 11,
   "metadata": {},
   "outputs": [
    {
     "data": {
      "text/html": [
       "<style>\n",
       ".list-inline {list-style: none; margin:0; padding: 0}\n",
       ".list-inline>li {display: inline-block}\n",
       ".list-inline>li:not(:last-child)::after {content: \"\\00b7\"; padding: 0 .5ex}\n",
       "</style>\n",
       "<ol class=list-inline><li>-2.55052121477071</li><li>-0.242547696926291</li><li>-0.143237035410008</li><li>0.606118417015477</li><li>1.67272027747635</li></ol>\n"
      ],
      "text/latex": [
       "\\begin{enumerate*}\n",
       "\\item -2.55052121477071\n",
       "\\item -0.242547696926291\n",
       "\\item -0.143237035410008\n",
       "\\item 0.606118417015477\n",
       "\\item 1.67272027747635\n",
       "\\end{enumerate*}\n"
      ],
      "text/markdown": [
       "1. -2.55052121477071\n",
       "2. -0.242547696926291\n",
       "3. -0.143237035410008\n",
       "4. 0.606118417015477\n",
       "5. 1.67272027747635\n",
       "\n",
       "\n"
      ],
      "text/plain": [
       "[1] -2.5505212 -0.2425477 -0.1432370  0.6061184  1.6727203"
      ]
     },
     "metadata": {},
     "output_type": "display_data"
    },
    {
     "data": {
      "text/html": [
       "<style>\n",
       ".list-inline {list-style: none; margin:0; padding: 0}\n",
       ".list-inline>li {display: inline-block}\n",
       ".list-inline>li:not(:last-child)::after {content: \"\\00b7\"; padding: 0 .5ex}\n",
       "</style>\n",
       "<ol class=list-inline><li>1</li><li>2</li><li>3</li><li>4</li><li>5</li></ol>\n"
      ],
      "text/latex": [
       "\\begin{enumerate*}\n",
       "\\item 1\n",
       "\\item 2\n",
       "\\item 3\n",
       "\\item 4\n",
       "\\item 5\n",
       "\\end{enumerate*}\n"
      ],
      "text/markdown": [
       "1. 1\n",
       "2. 2\n",
       "3. 3\n",
       "4. 4\n",
       "5. 5\n",
       "\n",
       "\n"
      ],
      "text/plain": [
       "[1] 1 2 3 4 5"
      ]
     },
     "metadata": {},
     "output_type": "display_data"
    }
   ],
   "source": [
    "a <- sort(x)\n",
    "a\n",
    "a <-order(a)\n",
    "a\n"
   ]
  },
  {
   "cell_type": "code",
   "execution_count": 3,
   "metadata": {},
   "outputs": [
    {
     "name": "stdout",
     "output_type": "stream",
     "text": [
      "[1] -0.243  0.606 -0.143 -2.551  1.673\n"
     ]
    }
   ],
   "source": [
    "print(x, dig = 3)"
   ]
  },
  {
   "cell_type": "code",
   "execution_count": 5,
   "metadata": {},
   "outputs": [
    {
     "data": {
      "text/html": [
       "<style>\n",
       ".list-inline {list-style: none; margin:0; padding: 0}\n",
       ".list-inline>li {display: inline-block}\n",
       ".list-inline>li:not(:last-child)::after {content: \"\\00b7\"; padding: 0 .5ex}\n",
       "</style>\n",
       "<ol class=list-inline><li>-0.28529955571309</li><li>0.0770556819058379</li><li>1.07075174934991</li><li>0.811434906032934</li><li>-1.10646017193824</li></ol>\n"
      ],
      "text/latex": [
       "\\begin{enumerate*}\n",
       "\\item -0.28529955571309\n",
       "\\item 0.0770556819058379\n",
       "\\item 1.07075174934991\n",
       "\\item 0.811434906032934\n",
       "\\item -1.10646017193824\n",
       "\\end{enumerate*}\n"
      ],
      "text/markdown": [
       "1. -0.28529955571309\n",
       "2. 0.0770556819058379\n",
       "3. 1.07075174934991\n",
       "4. 0.811434906032934\n",
       "5. -1.10646017193824\n",
       "\n",
       "\n"
      ],
      "text/plain": [
       "[1] -0.28529956  0.07705568  1.07075175  0.81143491 -1.10646017"
      ]
     },
     "metadata": {},
     "output_type": "display_data"
    }
   ],
   "source": [
    "y <- rnorm(x)\n",
    "y"
   ]
  },
  {
   "cell_type": "code",
   "execution_count": 6,
   "metadata": {},
   "outputs": [
    {
     "data": {
      "image/png": "[encoded data removed]",
      "text/plain": [
       "plot without title"
      ]
     },
     "metadata": {
      "image/png": {
       "height": 420,
       "width": 420
      }
     },
     "output_type": "display_data"
    }
   ],
   "source": [
    "plot(x,y)"
   ]
  },
  {
   "cell_type": "code",
   "execution_count": 13,
   "metadata": {},
   "outputs": [],
   "source": [
    "x <- sort(x)\n",
    "y <-y[order(x)]"
   ]
  },
  {
   "cell_type": "code",
   "execution_count": 14,
   "metadata": {},
   "outputs": [
    {
     "data": {
      "image/png": "[encoded data removed]",
      "text/plain": [
       "plot without title"
      ]
     },
     "metadata": {
      "image/png": {
       "height": 420,
       "width": 420
      }
     },
     "output_type": "display_data"
    }
   ],
   "source": [
    "plot(x, y, type = \"l\")"
   ]
  },
  {
   "cell_type": "code",
   "execution_count": null,
   "metadata": {},
   "outputs": [],
   "source": []
  }
 ],
 "metadata": {
  "kernelspec": {
   "display_name": "R",
   "language": "R",
   "name": "ir"
  },
  "language_info": {
   "codemirror_mode": "r",
   "file_extension": ".r",
   "mimetype": "text/x-r-source",
   "name": "R",
   "pygments_lexer": "r",
   "version": "4.0.3"
  }
 },
 "nbformat": 4,
 "nbformat_minor": 4
}
